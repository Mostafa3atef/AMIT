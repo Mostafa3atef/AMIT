{
  "nbformat": 4,
  "nbformat_minor": 0,
  "metadata": {
    "colab": {
      "private_outputs": true,
      "provenance": [],
      "collapsed_sections": [
        "Ui8LKXjlii3V",
        "xQB_yP4rirZS",
        "di3xEq8mjBRK",
        "grc5Gk_RjFBe",
        "-J3UtjpIjJPv",
        "JeN4yaIMjNlC",
        "ST7uKJmtjYh1",
        "PkPPTrivjran",
        "2JoHNIaCj7fR",
        "WTIX9yh1kLs-"
      ]
    },
    "kernelspec": {
      "name": "python3",
      "display_name": "Python 3"
    },
    "language_info": {
      "name": "python"
    }
  },
  "cells": [
    {
      "cell_type": "markdown",
      "source": [
        "### 1) Write a program to print the maximum between two numbers. (one-line conditional statement)\n"
      ],
      "metadata": {
        "id": "Ui8LKXjlii3V"
      }
    },
    {
      "cell_type": "code",
      "source": [
        "a= float(input())\n",
        "b= float(input())\n",
        "result= print(a) if a>b else print(b)"
      ],
      "metadata": {
        "id": "yoZSFisI17Nk"
      },
      "execution_count": null,
      "outputs": []
    },
    {
      "cell_type": "markdown",
      "source": [
        "### 2) Write a program to find the maximum between three numbers.\n"
      ],
      "metadata": {
        "id": "xQB_yP4rirZS"
      }
    },
    {
      "cell_type": "code",
      "source": [
        "a= float(input())\n",
        "b= float(input())\n",
        "c= float(input())\n",
        "if a>b and a>c:\n",
        "  print(a)\n",
        "elif b>c:\n",
        "  print(b)\n",
        "else:\n",
        "  print(c)"
      ],
      "metadata": {
        "id": "aforpwHH2uTs"
      },
      "execution_count": null,
      "outputs": []
    },
    {
      "cell_type": "markdown",
      "source": [
        "### 3) Write a program to check whether a number is negative, or positive (one-line conditional statement)\n"
      ],
      "metadata": {
        "id": "di3xEq8mjBRK"
      }
    },
    {
      "cell_type": "code",
      "source": [
        "a= float(input())\n",
        "result= print(\"the number is positive\") if a>0 else print(\"the number is negative\")"
      ],
      "metadata": {
        "id": "U5paPIgT3nv0"
      },
      "execution_count": null,
      "outputs": []
    },
    {
      "cell_type": "markdown",
      "source": [
        "### 4) Write a  program to check whether a number is even or odd  (one-line statement).\n"
      ],
      "metadata": {
        "id": "grc5Gk_RjFBe"
      }
    },
    {
      "cell_type": "code",
      "source": [
        "a= int(input())\n",
        "result= print(\"the number is even\") if a%2==0 else print(\"the number is odd\")"
      ],
      "metadata": {
        "id": "DjB9vrZi4Ql8"
      },
      "execution_count": null,
      "outputs": []
    },
    {
      "cell_type": "markdown",
      "source": [
        "###5) Write a  program to check whether a year is a leap year or not. (one-line conditional statement).\n"
      ],
      "metadata": {
        "id": "-J3UtjpIjJPv"
      }
    },
    {
      "cell_type": "code",
      "source": [
        "a=int(input(\"enter the year \"))\n",
        "result= print(\"the year is a leap year\") if a%4==0 else print(\"the year is not a leab year\")"
      ],
      "metadata": {
        "id": "y1jOOlQY6ktV"
      },
      "execution_count": null,
      "outputs": []
    },
    {
      "cell_type": "markdown",
      "source": [
        "###6) Write a  program to store the weekdays in a list and access the week day and print it by index.\n"
      ],
      "metadata": {
        "id": "JeN4yaIMjNlC"
      }
    },
    {
      "cell_type": "code",
      "source": [
        "a= ['saturday','sunday','monday','tuesday','wednesday','thursday','friday']\n",
        "print(a)\n",
        "x=int(input('enter the index '))\n",
        "print(a[x])"
      ],
      "metadata": {
        "id": "k8iMadbauHPP"
      },
      "execution_count": null,
      "outputs": []
    },
    {
      "cell_type": "markdown",
      "source": [
        "###7) Write a  program to print all alphabets from a to z using while loop"
      ],
      "metadata": {
        "id": "ST7uKJmtjYh1"
      }
    },
    {
      "cell_type": "code",
      "source": [
        "i = 'a'\n",
        "print(\"The Alphabets from A to Z are:\")\n",
        "while i <= 'z':\n",
        "    print (i),\n",
        "    i = chr(ord(i) + 1)"
      ],
      "metadata": {
        "id": "65aQVWtqvHIH"
      },
      "execution_count": null,
      "outputs": []
    },
    {
      "cell_type": "markdown",
      "source": [
        "###8)Write a program to sotre numbers in the List and print its reverse"
      ],
      "metadata": {
        "id": "PkPPTrivjran"
      }
    },
    {
      "cell_type": "code",
      "source": [
        "x=[5,6,83,8,90,2,4,80,87,23,41,67,45,32,34,22,27,17,19,60,77,99]\n",
        "x.sort()\n",
        "print(x)\n",
        "x.sort(reverse=True)\n",
        "print(x)"
      ],
      "metadata": {
        "id": "tGvKtrzDxYP3"
      },
      "execution_count": null,
      "outputs": []
    },
    {
      "cell_type": "markdown",
      "source": [
        "### 9) Write a program to print the multiplcation table of any number"
      ],
      "metadata": {
        "id": "2JoHNIaCj7fR"
      }
    },
    {
      "cell_type": "code",
      "source": [
        "x=int(input(\"enter the multiplication range. \"))\n",
        "y=int(input(\"enter the number of which you want to print its table. \"))\n",
        "z= 1\n",
        "while z <= x:\n",
        "  result= y*z\n",
        "  txt= f\"{y}*{z} = {result}\"\n",
        "  print(txt)\n",
        "  z+=1"
      ],
      "metadata": {
        "id": "IZ327ZhU9wb-"
      },
      "execution_count": null,
      "outputs": []
    },
    {
      "cell_type": "markdown",
      "source": [
        "###10)Write a program to print all even numbers between 1 to 100.(using while loop)"
      ],
      "metadata": {
        "id": "WTIX9yh1kLs-"
      }
    },
    {
      "cell_type": "code",
      "execution_count": null,
      "metadata": {
        "id": "i5fTGY3Qib9Y"
      },
      "outputs": [],
      "source": [
        "x=1\n",
        "while x<=100:\n",
        "  if x%2!=0:\n",
        "    x+=1\n",
        "  else:\n",
        "    print(x)\n",
        "    x+=1"
      ]
    }
  ]
}
